{
 "cells": [
  {
   "cell_type": "code",
   "execution_count": 1,
   "metadata": {
    "ExecuteTime": {
     "end_time": "2024-10-28T11:39:29.571833Z",
     "start_time": "2024-10-28T11:39:29.568069Z"
    }
   },
   "outputs": [],
   "source": [
    "import numpy as np\n",
    "import util\n",
    "from NNS import NNS"
   ]
  },
  {
   "cell_type": "markdown",
   "metadata": {},
   "source": [
    "## 1. Data Loading"
   ]
  },
  {
   "cell_type": "code",
   "execution_count": 2,
   "metadata": {
    "ExecuteTime": {
     "end_time": "2024-10-28T11:39:29.611054Z",
     "start_time": "2024-10-28T11:39:29.598840Z"
    }
   },
   "outputs": [],
   "source": [
    "retrieval_repository_data = util.load_data('./image_retrieval_repository_data.pkl')"
   ]
  },
  {
   "cell_type": "markdown",
   "metadata": {},
   "source": [
    "## 2. Data Exploration"
   ]
  },
  {
   "cell_type": "code",
   "execution_count": 3,
   "metadata": {
    "ExecuteTime": {
     "end_time": "2024-10-28T11:39:29.636105Z",
     "start_time": "2024-10-28T11:39:29.632018Z"
    }
   },
   "outputs": [
    {
     "name": "stdout",
     "output_type": "stream",
     "text": [
      "Image Retrieval Repository Data Shape: (5000, 257)\n"
     ]
    }
   ],
   "source": [
    "print(\"Image Retrieval Repository Data Shape:\", retrieval_repository_data.shape)"
   ]
  },
  {
   "cell_type": "markdown",
   "metadata": {},
   "source": [
    "## 3. Data Preprocessing "
   ]
  },
  {
   "cell_type": "code",
   "execution_count": 4,
   "metadata": {
    "ExecuteTime": {
     "end_time": "2024-10-28T11:39:29.767288Z",
     "start_time": "2024-10-28T11:39:29.763573Z"
    }
   },
   "outputs": [],
   "source": [
    "# remove index column\n",
    "repository_data_index = retrieval_repository_data[:, 0]\n",
    "retrieval_repository_data = retrieval_repository_data[:, 1:]"
   ]
  },
  {
   "cell_type": "code",
   "execution_count": 5,
   "metadata": {
    "ExecuteTime": {
     "end_time": "2024-10-28T11:39:29.820713Z",
     "start_time": "2024-10-28T11:39:29.814380Z"
    }
   },
   "outputs": [
    {
     "data": {
      "text/plain": [
       "(5000,)"
      ]
     },
     "execution_count": 5,
     "metadata": {},
     "output_type": "execute_result"
    }
   ],
   "source": [
    "repository_data_index.shape"
   ]
  },
  {
   "cell_type": "code",
   "execution_count": 6,
   "metadata": {
    "ExecuteTime": {
     "end_time": "2024-10-28T11:39:29.939022Z",
     "start_time": "2024-10-28T11:39:29.933576Z"
    }
   },
   "outputs": [
    {
     "data": {
      "text/plain": [
       "(5000, 256)"
      ]
     },
     "execution_count": 6,
     "metadata": {},
     "output_type": "execute_result"
    }
   ],
   "source": [
    "retrieval_repository_data.shape"
   ]
  },
  {
   "cell_type": "markdown",
   "metadata": {},
   "source": [
    "## 4. Model"
   ]
  },
  {
   "cell_type": "code",
   "execution_count": 7,
   "metadata": {
    "ExecuteTime": {
     "end_time": "2024-10-28T11:39:30.057360Z",
     "start_time": "2024-10-28T11:39:30.053916Z"
    }
   },
   "outputs": [],
   "source": [
    "nns_model = NNS(k=5)"
   ]
  },
  {
   "cell_type": "markdown",
   "metadata": {},
   "source": [
    "## 5. Train"
   ]
  },
  {
   "cell_type": "code",
   "execution_count": 8,
   "metadata": {
    "ExecuteTime": {
     "end_time": "2024-10-28T11:39:30.141307Z",
     "start_time": "2024-10-28T11:39:30.136003Z"
    }
   },
   "outputs": [],
   "source": [
    "nns_model.fit(X_train=retrieval_repository_data)"
   ]
  },
  {
   "cell_type": "markdown",
   "metadata": {},
   "source": [
    "## 6. Predict"
   ]
  },
  {
   "cell_type": "code",
   "execution_count": 9,
   "metadata": {
    "ExecuteTime": {
     "end_time": "2024-10-28T11:40:48.210712Z",
     "start_time": "2024-10-28T11:40:16.881459Z"
    }
   },
   "outputs": [
    {
     "name": "stderr",
     "output_type": "stream",
     "text": [
      "100%|██████████| 5000/5000 [00:56<00:00, 88.45it/s]\n"
     ]
    }
   ],
   "source": [
    "k_nearest = nns_model.predict(retrieval_repository_data[:5000])"
   ]
  },
  {
   "cell_type": "code",
   "execution_count": 10,
   "metadata": {
    "ExecuteTime": {
     "end_time": "2024-10-28T11:40:51.931179Z",
     "start_time": "2024-10-28T11:40:51.924549Z"
    }
   },
   "outputs": [
    {
     "data": {
      "text/plain": [
       "(5000, 8)"
      ]
     },
     "execution_count": 10,
     "metadata": {},
     "output_type": "execute_result"
    }
   ],
   "source": [
    "k_nearest.shape"
   ]
  },
  {
   "cell_type": "code",
   "execution_count": 10,
   "metadata": {},
   "outputs": [],
   "source": [
    "from retrieval import Retrieval\n",
    "\n",
    "retrieval_repository = util.load_data('./image_retrieval_repository_data.pkl')\n",
    "k_nearest = Retrieval(retrieval_repository)\n",
    "\n",
    "result = k_nearest.inference(retrieval_repository_data[0])"
   ]
  },
  {
   "cell_type": "code",
   "execution_count": 11,
   "metadata": {},
   "outputs": [
    {
     "name": "stdout",
     "output_type": "stream",
     "text": [
      "[   0  723   32 3892 1431]\n"
     ]
    }
   ],
   "source": [
    "print(result)"
   ]
  },
  {
   "cell_type": "code",
   "execution_count": null,
   "metadata": {},
   "outputs": [],
   "source": []
  }
 ],
 "metadata": {
  "kernelspec": {
   "display_name": "Python 3 (ipykernel)",
   "language": "python",
   "name": "python3"
  },
  "language_info": {
   "codemirror_mode": {
    "name": "ipython",
    "version": 3
   },
   "file_extension": ".py",
   "mimetype": "text/x-python",
   "name": "python",
   "nbconvert_exporter": "python",
   "pygments_lexer": "ipython3",
   "version": "3.12.5"
  }
 },
 "nbformat": 4,
 "nbformat_minor": 4
}
